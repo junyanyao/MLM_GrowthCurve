{
 "cells": [
  {
   "cell_type": "markdown",
   "metadata": {},
   "source": [
    "## Load Packages"
   ]
  },
  {
   "cell_type": "code",
   "execution_count": 221,
   "metadata": {},
   "outputs": [],
   "source": [
    "from sklearn.neighbors.kde import KernelDensity\n",
    "%matplotlib inline\n",
    "import matplotlib.pyplot as plt\n",
    "import seaborn as sns; sns.set()\n",
    "import numpy as np\n",
    "import pandas as pd\n",
    "from scipy.stats import norm\n",
    "from statsmodels.nonparametric.smoothers_lowess import lowess"
   ]
  },
  {
   "cell_type": "markdown",
   "metadata": {},
   "source": [
    "## Load Dataset"
   ]
  },
  {
   "cell_type": "code",
   "execution_count": 10,
   "metadata": {},
   "outputs": [],
   "source": [
    "df = pd.read_stata(\"/Users/YaoJunyan/Documents/NYU/Fall 2016/Growth Curve/Database/drvisits_project_ver13.dta\")"
   ]
  },
  {
   "cell_type": "code",
   "execution_count": 12,
   "metadata": {},
   "outputs": [
    {
     "name": "stdout",
     "output_type": "stream",
     "text": [
      "<class 'pandas.core.frame.DataFrame'>\n",
      "Int64Index: 1948 entries, 0 to 1947\n",
      "Data columns (total 13 columns):\n",
      "id          1948 non-null float32\n",
      "numvisit    1948 non-null float32\n",
      "age         1948 non-null float32\n",
      "educ        1948 non-null float32\n",
      "married     1948 non-null float32\n",
      "badh        1948 non-null float32\n",
      "loginc      1948 non-null float32\n",
      "reform      1948 non-null float32\n",
      "summer      1948 non-null float32\n",
      "runif       1948 non-null float32\n",
      "munif       1948 non-null float32\n",
      "rank        1948 non-null float32\n",
      "mx          1948 non-null float32\n",
      "dtypes: float32(13)\n",
      "memory usage: 114.1 KB\n"
     ]
    }
   ],
   "source": [
    "df.info()"
   ]
  },
  {
   "cell_type": "code",
   "execution_count": 13,
   "metadata": {},
   "outputs": [
    {
     "data": {
      "text/html": [
       "<div>\n",
       "<style scoped>\n",
       "    .dataframe tbody tr th:only-of-type {\n",
       "        vertical-align: middle;\n",
       "    }\n",
       "\n",
       "    .dataframe tbody tr th {\n",
       "        vertical-align: top;\n",
       "    }\n",
       "\n",
       "    .dataframe thead th {\n",
       "        text-align: right;\n",
       "    }\n",
       "</style>\n",
       "<table border=\"1\" class=\"dataframe\">\n",
       "  <thead>\n",
       "    <tr style=\"text-align: right;\">\n",
       "      <th></th>\n",
       "      <th>id</th>\n",
       "      <th>numvisit</th>\n",
       "      <th>age</th>\n",
       "      <th>educ</th>\n",
       "      <th>married</th>\n",
       "      <th>badh</th>\n",
       "      <th>loginc</th>\n",
       "      <th>reform</th>\n",
       "      <th>summer</th>\n",
       "      <th>runif</th>\n",
       "      <th>munif</th>\n",
       "      <th>rank</th>\n",
       "      <th>mx</th>\n",
       "    </tr>\n",
       "  </thead>\n",
       "  <tbody>\n",
       "    <tr>\n",
       "      <th>0</th>\n",
       "      <td>4.0</td>\n",
       "      <td>9.0</td>\n",
       "      <td>53.0</td>\n",
       "      <td>9.0</td>\n",
       "      <td>1.0</td>\n",
       "      <td>1.0</td>\n",
       "      <td>7.699212</td>\n",
       "      <td>0.0</td>\n",
       "      <td>0.0</td>\n",
       "      <td>0.351143</td>\n",
       "      <td>0.351143</td>\n",
       "      <td>610.0</td>\n",
       "      <td>2165.0</td>\n",
       "    </tr>\n",
       "    <tr>\n",
       "      <th>1</th>\n",
       "      <td>7.0</td>\n",
       "      <td>40.0</td>\n",
       "      <td>48.0</td>\n",
       "      <td>10.5</td>\n",
       "      <td>0.0</td>\n",
       "      <td>1.0</td>\n",
       "      <td>7.057358</td>\n",
       "      <td>0.0</td>\n",
       "      <td>0.0</td>\n",
       "      <td>0.254096</td>\n",
       "      <td>0.254096</td>\n",
       "      <td>394.0</td>\n",
       "      <td>2165.0</td>\n",
       "    </tr>\n",
       "    <tr>\n",
       "      <th>2</th>\n",
       "      <td>22.0</td>\n",
       "      <td>1.0</td>\n",
       "      <td>40.0</td>\n",
       "      <td>10.5</td>\n",
       "      <td>0.0</td>\n",
       "      <td>0.0</td>\n",
       "      <td>7.541466</td>\n",
       "      <td>0.0</td>\n",
       "      <td>0.0</td>\n",
       "      <td>0.593426</td>\n",
       "      <td>0.339249</td>\n",
       "      <td>569.0</td>\n",
       "      <td>2165.0</td>\n",
       "    </tr>\n",
       "    <tr>\n",
       "      <th>3</th>\n",
       "      <td>22.0</td>\n",
       "      <td>1.0</td>\n",
       "      <td>42.0</td>\n",
       "      <td>10.5</td>\n",
       "      <td>1.0</td>\n",
       "      <td>0.0</td>\n",
       "      <td>7.331879</td>\n",
       "      <td>1.0</td>\n",
       "      <td>0.0</td>\n",
       "      <td>0.085072</td>\n",
       "      <td>0.339249</td>\n",
       "      <td>569.0</td>\n",
       "      <td>2165.0</td>\n",
       "    </tr>\n",
       "    <tr>\n",
       "      <th>4</th>\n",
       "      <td>26.0</td>\n",
       "      <td>0.0</td>\n",
       "      <td>57.0</td>\n",
       "      <td>10.5</td>\n",
       "      <td>0.0</td>\n",
       "      <td>1.0</td>\n",
       "      <td>7.428922</td>\n",
       "      <td>0.0</td>\n",
       "      <td>0.0</td>\n",
       "      <td>0.836668</td>\n",
       "      <td>0.836668</td>\n",
       "      <td>1941.0</td>\n",
       "      <td>2165.0</td>\n",
       "    </tr>\n",
       "  </tbody>\n",
       "</table>\n",
       "</div>"
      ],
      "text/plain": [
       "     id  numvisit   age  educ  married  badh    loginc  reform  summer  \\\n",
       "0   4.0       9.0  53.0   9.0      1.0   1.0  7.699212     0.0     0.0   \n",
       "1   7.0      40.0  48.0  10.5      0.0   1.0  7.057358     0.0     0.0   \n",
       "2  22.0       1.0  40.0  10.5      0.0   0.0  7.541466     0.0     0.0   \n",
       "3  22.0       1.0  42.0  10.5      1.0   0.0  7.331879     1.0     0.0   \n",
       "4  26.0       0.0  57.0  10.5      0.0   1.0  7.428922     0.0     0.0   \n",
       "\n",
       "      runif     munif    rank      mx  \n",
       "0  0.351143  0.351143   610.0  2165.0  \n",
       "1  0.254096  0.254096   394.0  2165.0  \n",
       "2  0.593426  0.339249   569.0  2165.0  \n",
       "3  0.085072  0.339249   569.0  2165.0  \n",
       "4  0.836668  0.836668  1941.0  2165.0  "
      ]
     },
     "execution_count": 13,
     "metadata": {},
     "output_type": "execute_result"
    }
   ],
   "source": [
    "df.head()"
   ]
  },
  {
   "cell_type": "raw",
   "metadata": {},
   "source": [
    "This is a relatively clean data. No missing value to be concerned about."
   ]
  },
  {
   "cell_type": "markdown",
   "metadata": {},
   "source": [
    "## Evaluate the need for transformation of the outcome, numvisit by examining a kdensity plot with a normal distribution superimposed"
   ]
  },
  {
   "cell_type": "code",
   "execution_count": 17,
   "metadata": {},
   "outputs": [
    {
     "data": {
      "text/plain": [
       "<matplotlib.axes._subplots.AxesSubplot at 0x11fccbc50>"
      ]
     },
     "execution_count": 17,
     "metadata": {},
     "output_type": "execute_result"
    },
    {
     "data": {
      "image/png": "[encoded data removed]",
      "text/plain": [
       "<Figure size 432x288 with 1 Axes>"
      ]
     },
     "metadata": {},
     "output_type": "display_data"
    }
   ],
   "source": [
    "sns.distplot(df['numvisit'], hist=True, kde=True, \n",
    "              color = 'darkblue', \n",
    "             hist_kws={'edgecolor':'black'},\n",
    "             kde_kws={'linewidth': 4})"
   ]
  },
  {
   "cell_type": "markdown",
   "metadata": {},
   "source": [
    "This below kernel plot imposed Gausian distribution"
   ]
  },
  {
   "cell_type": "code",
   "execution_count": 47,
   "metadata": {},
   "outputs": [
    {
     "data": {
      "image/png": "[encoded data removed]",
      "text/plain": [
       "<Figure size 432x288 with 1 Axes>"
      ]
     },
     "metadata": {},
     "output_type": "display_data"
    }
   ],
   "source": [
    "from scipy import stats\n",
    "data = df['numvisit']\n",
    "density = stats.kde.gaussian_kde(data)\n",
    "x = np.arange(0., 60, .1)\n",
    "plt.plot(x, density(x))\n",
    "plt.show()"
   ]
  },
  {
   "cell_type": "markdown",
   "metadata": {},
   "source": [
    "We can see from this plot, the numvisit variable is highly skewed. So log transformation is needed"
   ]
  },
  {
   "cell_type": "code",
   "execution_count": 49,
   "metadata": {},
   "outputs": [],
   "source": [
    "df['lnvisit'] = np.log(df['numvisit']+1) # add 1 in case some of numvisit is 0"
   ]
  },
  {
   "cell_type": "code",
   "execution_count": 50,
   "metadata": {},
   "outputs": [
    {
     "data": {
      "text/html": [
       "<div>\n",
       "<style scoped>\n",
       "    .dataframe tbody tr th:only-of-type {\n",
       "        vertical-align: middle;\n",
       "    }\n",
       "\n",
       "    .dataframe tbody tr th {\n",
       "        vertical-align: top;\n",
       "    }\n",
       "\n",
       "    .dataframe thead th {\n",
       "        text-align: right;\n",
       "    }\n",
       "</style>\n",
       "<table border=\"1\" class=\"dataframe\">\n",
       "  <thead>\n",
       "    <tr style=\"text-align: right;\">\n",
       "      <th></th>\n",
       "      <th>id</th>\n",
       "      <th>numvisit</th>\n",
       "      <th>age</th>\n",
       "      <th>educ</th>\n",
       "      <th>married</th>\n",
       "      <th>badh</th>\n",
       "      <th>loginc</th>\n",
       "      <th>reform</th>\n",
       "      <th>summer</th>\n",
       "      <th>runif</th>\n",
       "      <th>munif</th>\n",
       "      <th>rank</th>\n",
       "      <th>mx</th>\n",
       "      <th>lnvisit</th>\n",
       "    </tr>\n",
       "  </thead>\n",
       "  <tbody>\n",
       "    <tr>\n",
       "      <th>0</th>\n",
       "      <td>4.0</td>\n",
       "      <td>9.0</td>\n",
       "      <td>53.0</td>\n",
       "      <td>9.0</td>\n",
       "      <td>1.0</td>\n",
       "      <td>1.0</td>\n",
       "      <td>7.699212</td>\n",
       "      <td>0.0</td>\n",
       "      <td>0.0</td>\n",
       "      <td>0.351143</td>\n",
       "      <td>0.351143</td>\n",
       "      <td>610.0</td>\n",
       "      <td>2165.0</td>\n",
       "      <td>2.302585</td>\n",
       "    </tr>\n",
       "    <tr>\n",
       "      <th>1</th>\n",
       "      <td>7.0</td>\n",
       "      <td>40.0</td>\n",
       "      <td>48.0</td>\n",
       "      <td>10.5</td>\n",
       "      <td>0.0</td>\n",
       "      <td>1.0</td>\n",
       "      <td>7.057358</td>\n",
       "      <td>0.0</td>\n",
       "      <td>0.0</td>\n",
       "      <td>0.254096</td>\n",
       "      <td>0.254096</td>\n",
       "      <td>394.0</td>\n",
       "      <td>2165.0</td>\n",
       "      <td>3.713572</td>\n",
       "    </tr>\n",
       "    <tr>\n",
       "      <th>2</th>\n",
       "      <td>22.0</td>\n",
       "      <td>1.0</td>\n",
       "      <td>40.0</td>\n",
       "      <td>10.5</td>\n",
       "      <td>0.0</td>\n",
       "      <td>0.0</td>\n",
       "      <td>7.541466</td>\n",
       "      <td>0.0</td>\n",
       "      <td>0.0</td>\n",
       "      <td>0.593426</td>\n",
       "      <td>0.339249</td>\n",
       "      <td>569.0</td>\n",
       "      <td>2165.0</td>\n",
       "      <td>0.693147</td>\n",
       "    </tr>\n",
       "    <tr>\n",
       "      <th>3</th>\n",
       "      <td>22.0</td>\n",
       "      <td>1.0</td>\n",
       "      <td>42.0</td>\n",
       "      <td>10.5</td>\n",
       "      <td>1.0</td>\n",
       "      <td>0.0</td>\n",
       "      <td>7.331879</td>\n",
       "      <td>1.0</td>\n",
       "      <td>0.0</td>\n",
       "      <td>0.085072</td>\n",
       "      <td>0.339249</td>\n",
       "      <td>569.0</td>\n",
       "      <td>2165.0</td>\n",
       "      <td>0.693147</td>\n",
       "    </tr>\n",
       "    <tr>\n",
       "      <th>4</th>\n",
       "      <td>26.0</td>\n",
       "      <td>0.0</td>\n",
       "      <td>57.0</td>\n",
       "      <td>10.5</td>\n",
       "      <td>0.0</td>\n",
       "      <td>1.0</td>\n",
       "      <td>7.428922</td>\n",
       "      <td>0.0</td>\n",
       "      <td>0.0</td>\n",
       "      <td>0.836668</td>\n",
       "      <td>0.836668</td>\n",
       "      <td>1941.0</td>\n",
       "      <td>2165.0</td>\n",
       "      <td>0.000000</td>\n",
       "    </tr>\n",
       "  </tbody>\n",
       "</table>\n",
       "</div>"
      ],
      "text/plain": [
       "     id  numvisit   age  educ  married  badh    loginc  reform  summer  \\\n",
       "0   4.0       9.0  53.0   9.0      1.0   1.0  7.699212     0.0     0.0   \n",
       "1   7.0      40.0  48.0  10.5      0.0   1.0  7.057358     0.0     0.0   \n",
       "2  22.0       1.0  40.0  10.5      0.0   0.0  7.541466     0.0     0.0   \n",
       "3  22.0       1.0  42.0  10.5      1.0   0.0  7.331879     1.0     0.0   \n",
       "4  26.0       0.0  57.0  10.5      0.0   1.0  7.428922     0.0     0.0   \n",
       "\n",
       "      runif     munif    rank      mx   lnvisit  \n",
       "0  0.351143  0.351143   610.0  2165.0  2.302585  \n",
       "1  0.254096  0.254096   394.0  2165.0  3.713572  \n",
       "2  0.593426  0.339249   569.0  2165.0  0.693147  \n",
       "3  0.085072  0.339249   569.0  2165.0  0.693147  \n",
       "4  0.836668  0.836668  1941.0  2165.0  0.000000  "
      ]
     },
     "execution_count": 50,
     "metadata": {},
     "output_type": "execute_result"
    }
   ],
   "source": [
    "df.head()"
   ]
  },
  {
   "cell_type": "markdown",
   "metadata": {},
   "source": [
    "## Examine the distribution of the new outcome variable, in aggregate using kdensity (normal overlay) and pre- and post-reform, using a boxplot"
   ]
  },
  {
   "cell_type": "code",
   "execution_count": 51,
   "metadata": {},
   "outputs": [
    {
     "data": {
      "text/plain": [
       "<matplotlib.axes._subplots.AxesSubplot at 0x12656edd8>"
      ]
     },
     "execution_count": 51,
     "metadata": {},
     "output_type": "execute_result"
    },
    {
     "data": {
      "image/png": "[encoded data removed]",
      "text/plain": [
       "<Figure size 432x288 with 1 Axes>"
      ]
     },
     "metadata": {},
     "output_type": "display_data"
    }
   ],
   "source": [
    "sns.distplot(df['lnvisit'], hist=True, kde=True, \n",
    "              color = 'darkblue', \n",
    "             hist_kws={'edgecolor':'black'},\n",
    "             kde_kws={'linewidth': 4})"
   ]
  },
  {
   "cell_type": "code",
   "execution_count": 53,
   "metadata": {},
   "outputs": [
    {
     "data": {
      "image/png": "[encoded data removed]",
      "text/plain": [
       "<Figure size 432x288 with 1 Axes>"
      ]
     },
     "metadata": {},
     "output_type": "display_data"
    }
   ],
   "source": [
    "density = stats.kde.gaussian_kde(df['numvisit'])\n",
    "x = np.arange(0., 4, .1)\n",
    "plt.plot(x, density(x))\n",
    "plt.show()"
   ]
  },
  {
   "cell_type": "markdown",
   "metadata": {},
   "source": [
    "After the transformation, this plot looks less skewed than original one"
   ]
  },
  {
   "cell_type": "code",
   "execution_count": 60,
   "metadata": {},
   "outputs": [
    {
     "data": {
      "image/png": "[encoded data removed]",
      "text/plain": [
       "<Figure size 432x288 with 1 Axes>"
      ]
     },
     "metadata": {},
     "output_type": "display_data"
    }
   ],
   "source": [
    "df.boxplot(column = 'lnvisit', by = 'reform',grid=False)\n",
    "plt.title('Boxplot of Outcome for Two Periods (pre- vs post-reform)')\n",
    "plt.suptitle(\"\")\n",
    "plt.show()"
   ]
  },
  {
   "cell_type": "markdown",
   "metadata": {},
   "source": [
    "From boxplot, we can see it's not sysmmetric for both groups and obvious outliers"
   ]
  },
  {
   "cell_type": "markdown",
   "metadata": {},
   "source": [
    "## Clean predictive variables and generate some interactions for subsequent models"
   ]
  },
  {
   "cell_type": "markdown",
   "metadata": {},
   "source": [
    "#### Recode variables"
   ]
  },
  {
   "cell_type": "code",
   "execution_count": 67,
   "metadata": {},
   "outputs": [],
   "source": [
    "df['hs'] = np.where(df['educ'] ==12, 1, 0)\n",
    "df['sc'] = np.where(((df['educ'] >12) & (df['educ'] <16)), 1, 0)\n",
    "df['coll'] = np.where(df['educ'] ==16, 1, 0)\n",
    "df['grad'] =np.where(df['educ'] >16,1,0 )\n",
    "df['age2'] = df['age'] **2\n",
    "df['ageRef'] = df['age'] * df['reform']\n",
    "df['badhRef'] = df['badh'] * df['reform']\n"
   ]
  },
  {
   "cell_type": "code",
   "execution_count": 68,
   "metadata": {},
   "outputs": [
    {
     "data": {
      "text/html": [
       "<div>\n",
       "<style scoped>\n",
       "    .dataframe tbody tr th:only-of-type {\n",
       "        vertical-align: middle;\n",
       "    }\n",
       "\n",
       "    .dataframe tbody tr th {\n",
       "        vertical-align: top;\n",
       "    }\n",
       "\n",
       "    .dataframe thead th {\n",
       "        text-align: right;\n",
       "    }\n",
       "</style>\n",
       "<table border=\"1\" class=\"dataframe\">\n",
       "  <thead>\n",
       "    <tr style=\"text-align: right;\">\n",
       "      <th></th>\n",
       "      <th>id</th>\n",
       "      <th>numvisit</th>\n",
       "      <th>age</th>\n",
       "      <th>educ</th>\n",
       "      <th>married</th>\n",
       "      <th>badh</th>\n",
       "      <th>loginc</th>\n",
       "      <th>reform</th>\n",
       "      <th>summer</th>\n",
       "      <th>runif</th>\n",
       "      <th>...</th>\n",
       "      <th>rank</th>\n",
       "      <th>mx</th>\n",
       "      <th>lnvisit</th>\n",
       "      <th>hs</th>\n",
       "      <th>sc</th>\n",
       "      <th>coll</th>\n",
       "      <th>grad</th>\n",
       "      <th>age2</th>\n",
       "      <th>ageRef</th>\n",
       "      <th>badhRef</th>\n",
       "    </tr>\n",
       "  </thead>\n",
       "  <tbody>\n",
       "    <tr>\n",
       "      <th>0</th>\n",
       "      <td>4.0</td>\n",
       "      <td>9.0</td>\n",
       "      <td>53.0</td>\n",
       "      <td>9.0</td>\n",
       "      <td>1.0</td>\n",
       "      <td>1.0</td>\n",
       "      <td>7.699212</td>\n",
       "      <td>0.0</td>\n",
       "      <td>0.0</td>\n",
       "      <td>0.351143</td>\n",
       "      <td>...</td>\n",
       "      <td>610.0</td>\n",
       "      <td>2165.0</td>\n",
       "      <td>2.302585</td>\n",
       "      <td>0</td>\n",
       "      <td>0</td>\n",
       "      <td>0</td>\n",
       "      <td>0</td>\n",
       "      <td>2809.0</td>\n",
       "      <td>0.0</td>\n",
       "      <td>0.0</td>\n",
       "    </tr>\n",
       "    <tr>\n",
       "      <th>1</th>\n",
       "      <td>7.0</td>\n",
       "      <td>40.0</td>\n",
       "      <td>48.0</td>\n",
       "      <td>10.5</td>\n",
       "      <td>0.0</td>\n",
       "      <td>1.0</td>\n",
       "      <td>7.057358</td>\n",
       "      <td>0.0</td>\n",
       "      <td>0.0</td>\n",
       "      <td>0.254096</td>\n",
       "      <td>...</td>\n",
       "      <td>394.0</td>\n",
       "      <td>2165.0</td>\n",
       "      <td>3.713572</td>\n",
       "      <td>0</td>\n",
       "      <td>0</td>\n",
       "      <td>0</td>\n",
       "      <td>0</td>\n",
       "      <td>2304.0</td>\n",
       "      <td>0.0</td>\n",
       "      <td>0.0</td>\n",
       "    </tr>\n",
       "    <tr>\n",
       "      <th>2</th>\n",
       "      <td>22.0</td>\n",
       "      <td>1.0</td>\n",
       "      <td>40.0</td>\n",
       "      <td>10.5</td>\n",
       "      <td>0.0</td>\n",
       "      <td>0.0</td>\n",
       "      <td>7.541466</td>\n",
       "      <td>0.0</td>\n",
       "      <td>0.0</td>\n",
       "      <td>0.593426</td>\n",
       "      <td>...</td>\n",
       "      <td>569.0</td>\n",
       "      <td>2165.0</td>\n",
       "      <td>0.693147</td>\n",
       "      <td>0</td>\n",
       "      <td>0</td>\n",
       "      <td>0</td>\n",
       "      <td>0</td>\n",
       "      <td>1600.0</td>\n",
       "      <td>0.0</td>\n",
       "      <td>0.0</td>\n",
       "    </tr>\n",
       "    <tr>\n",
       "      <th>3</th>\n",
       "      <td>22.0</td>\n",
       "      <td>1.0</td>\n",
       "      <td>42.0</td>\n",
       "      <td>10.5</td>\n",
       "      <td>1.0</td>\n",
       "      <td>0.0</td>\n",
       "      <td>7.331879</td>\n",
       "      <td>1.0</td>\n",
       "      <td>0.0</td>\n",
       "      <td>0.085072</td>\n",
       "      <td>...</td>\n",
       "      <td>569.0</td>\n",
       "      <td>2165.0</td>\n",
       "      <td>0.693147</td>\n",
       "      <td>0</td>\n",
       "      <td>0</td>\n",
       "      <td>0</td>\n",
       "      <td>0</td>\n",
       "      <td>1764.0</td>\n",
       "      <td>42.0</td>\n",
       "      <td>0.0</td>\n",
       "    </tr>\n",
       "    <tr>\n",
       "      <th>4</th>\n",
       "      <td>26.0</td>\n",
       "      <td>0.0</td>\n",
       "      <td>57.0</td>\n",
       "      <td>10.5</td>\n",
       "      <td>0.0</td>\n",
       "      <td>1.0</td>\n",
       "      <td>7.428922</td>\n",
       "      <td>0.0</td>\n",
       "      <td>0.0</td>\n",
       "      <td>0.836668</td>\n",
       "      <td>...</td>\n",
       "      <td>1941.0</td>\n",
       "      <td>2165.0</td>\n",
       "      <td>0.000000</td>\n",
       "      <td>0</td>\n",
       "      <td>0</td>\n",
       "      <td>0</td>\n",
       "      <td>0</td>\n",
       "      <td>3249.0</td>\n",
       "      <td>0.0</td>\n",
       "      <td>0.0</td>\n",
       "    </tr>\n",
       "  </tbody>\n",
       "</table>\n",
       "<p>5 rows × 21 columns</p>\n",
       "</div>"
      ],
      "text/plain": [
       "     id  numvisit   age  educ  married  badh    loginc  reform  summer  \\\n",
       "0   4.0       9.0  53.0   9.0      1.0   1.0  7.699212     0.0     0.0   \n",
       "1   7.0      40.0  48.0  10.5      0.0   1.0  7.057358     0.0     0.0   \n",
       "2  22.0       1.0  40.0  10.5      0.0   0.0  7.541466     0.0     0.0   \n",
       "3  22.0       1.0  42.0  10.5      1.0   0.0  7.331879     1.0     0.0   \n",
       "4  26.0       0.0  57.0  10.5      0.0   1.0  7.428922     0.0     0.0   \n",
       "\n",
       "      runif   ...       rank      mx   lnvisit  hs  sc  coll  grad    age2  \\\n",
       "0  0.351143   ...      610.0  2165.0  2.302585   0   0     0     0  2809.0   \n",
       "1  0.254096   ...      394.0  2165.0  3.713572   0   0     0     0  2304.0   \n",
       "2  0.593426   ...      569.0  2165.0  0.693147   0   0     0     0  1600.0   \n",
       "3  0.085072   ...      569.0  2165.0  0.693147   0   0     0     0  1764.0   \n",
       "4  0.836668   ...     1941.0  2165.0  0.000000   0   0     0     0  3249.0   \n",
       "\n",
       "   ageRef  badhRef  \n",
       "0     0.0      0.0  \n",
       "1     0.0      0.0  \n",
       "2     0.0      0.0  \n",
       "3    42.0      0.0  \n",
       "4     0.0      0.0  \n",
       "\n",
       "[5 rows x 21 columns]"
      ]
     },
     "execution_count": 68,
     "metadata": {},
     "output_type": "execute_result"
    }
   ],
   "source": [
    "df.head()"
   ]
  },
  {
   "cell_type": "markdown",
   "metadata": {},
   "source": [
    "## Perform a one sample (paired) t- test on the difference between pre- and post- reform outcomes"
   ]
  },
  {
   "cell_type": "markdown",
   "metadata": {},
   "source": [
    "#### Sketch of the approach:\n",
    "1. Construct a varaible that is the negative value of the outcome for the pre-reform observations\n",
    "2. Create a variable named 'ydiff', that, for each post-reform observations, is equal to the sum of hte outcome and the negative pre-reform outcome for the same subject. This is the difference score.\n",
    "3. Determine which IDs have 2 (not 1) entry and select these IDSs with 2 entries in the t-test. We don't want to include 'singletons' in a one sample t test"
   ]
  },
  {
   "cell_type": "code",
   "execution_count": 76,
   "metadata": {},
   "outputs": [],
   "source": [
    "df['negpre'] = df['reform'] -1\n",
    "df['ydiff'] = df['reform'] + df['negpre']\n",
    "df['lnvisit_1'] = df['lnvisit'].shift(1)\n",
    "df['diff'] = df['lnvisit'] - df['lnvisit_1']"
   ]
  },
  {
   "cell_type": "code",
   "execution_count": 80,
   "metadata": {},
   "outputs": [
    {
     "data": {
      "text/plain": [
       "Ttest_1sampResult(statistic=-0.8310855407087232, pvalue=0.4061256985626861)"
      ]
     },
     "execution_count": 80,
     "metadata": {},
     "output_type": "execute_result"
    }
   ],
   "source": [
    "import scipy.stats\n",
    "scipy.stats.ttest_1samp(df[df['ydiff'] ==1]['diff'], popmean =0)"
   ]
  },
  {
   "cell_type": "markdown",
   "metadata": {},
   "source": [
    "Since the p value is too big here, we don't have enought evidence to reject the null hypothesis."
   ]
  },
  {
   "cell_type": "markdown",
   "metadata": {},
   "source": [
    "## I will use MLM model with a single random interception"
   ]
  },
  {
   "cell_type": "code",
   "execution_count": 132,
   "metadata": {},
   "outputs": [],
   "source": [
    "import statsmodels.regression.mixed_linear_model as sm\n",
    "model1 = sm.MixedLM.from_formula(\n",
    "    \"lnvisit ~ age+ reform+1\", df, re_formula = '1', groups=df[\"id\"])"
   ]
  },
  {
   "cell_type": "code",
   "execution_count": 133,
   "metadata": {},
   "outputs": [
    {
     "name": "stdout",
     "output_type": "stream",
     "text": [
      "[0.01669116]\n"
     ]
    }
   ],
   "source": [
    "result1 = model1.fit()                                                                                                           \n",
    "                                                                                                                                             \n",
    "print(model1.score(result1.params_object)) "
   ]
  },
  {
   "cell_type": "code",
   "execution_count": 134,
   "metadata": {},
   "outputs": [
    {
     "data": {
      "text/plain": [
       "Intercept    0.794480\n",
       "age          0.004636\n",
       "reform      -0.080736\n",
       "Group Var    0.479283\n",
       "dtype: float64"
      ]
     },
     "execution_count": 134,
     "metadata": {},
     "output_type": "execute_result"
    }
   ],
   "source": [
    "result1.params"
   ]
  },
  {
   "cell_type": "markdown",
   "metadata": {},
   "source": [
    "#### Check Residuals"
   ]
  },
  {
   "cell_type": "code",
   "execution_count": 147,
   "metadata": {},
   "outputs": [
    {
     "data": {
      "text/plain": [
       "[<matplotlib.lines.Line2D at 0x1281e4978>]"
      ]
     },
     "execution_count": 147,
     "metadata": {},
     "output_type": "execute_result"
    },
    {
     "data": {
      "image/png": "[encoded data removed]",
      "text/plain": [
       "<Figure size 432x288 with 1 Axes>"
      ]
     },
     "metadata": {},
     "output_type": "display_data"
    }
   ],
   "source": [
    "plt.plot(result1.resid)"
   ]
  },
  {
   "cell_type": "code",
   "execution_count": 151,
   "metadata": {},
   "outputs": [
    {
     "data": {
      "image/png": "[encoded data removed]",
      "text/plain": [
       "<Figure size 432x288 with 1 Axes>"
      ]
     },
     "metadata": {},
     "output_type": "display_data"
    }
   ],
   "source": [
    "import pylab\n",
    "scipy.stats.probplot(result1.resid, dist = 'norm', plot =pylab)\n",
    "pylab.show()"
   ]
  },
  {
   "cell_type": "markdown",
   "metadata": {},
   "source": [
    "### Use a scatterplot and lowess smooth to evaluate potential non-linearity in age,"
   ]
  },
  {
   "cell_type": "code",
   "execution_count": 180,
   "metadata": {},
   "outputs": [
    {
     "data": {
      "text/plain": [
       "[<matplotlib.lines.Line2D at 0x12a7b7828>]"
      ]
     },
     "execution_count": 180,
     "metadata": {},
     "output_type": "execute_result"
    },
    {
     "data": {
      "image/png": "[encoded data removed]",
      "text/plain": [
       "<Figure size 432x288 with 1 Axes>"
      ]
     },
     "metadata": {},
     "output_type": "display_data"
    }
   ],
   "source": [
    "import statsmodels.api \n",
    "plt.scatter(df['age'], result1.resid)\n",
    "smooth_lowess= statsmodels.api.nonparametric.lowess(result1.resid, df['age'], it=5, frac=0.5)\n",
    "plt.plot(smooth_lowess[:,0],smooth_lowess[:,1],'red', linewidth =1)"
   ]
  },
  {
   "cell_type": "markdown",
   "metadata": {},
   "source": [
    "The red line is not perfect linear. So slightly potential non-linearity"
   ]
  },
  {
   "cell_type": "markdown",
   "metadata": {},
   "source": [
    "## Fit a new MLM by adding a quadratic in age to the prior model"
   ]
  },
  {
   "cell_type": "code",
   "execution_count": 181,
   "metadata": {},
   "outputs": [],
   "source": [
    "model2 = sm.MixedLM.from_formula(\n",
    "    \"lnvisit ~ age + age2 + reform+1\", df, re_formula = '1', groups=df[\"id\"])\n",
    "result2 = model2.fit()    "
   ]
  },
  {
   "cell_type": "code",
   "execution_count": 182,
   "metadata": {},
   "outputs": [
    {
     "data": {
      "text/plain": [
       "Intercept    1.023886\n",
       "age         -0.008284\n",
       "age2         0.000167\n",
       "reform      -0.079954\n",
       "Group Var    0.478679\n",
       "dtype: float64"
      ]
     },
     "execution_count": 182,
     "metadata": {},
     "output_type": "execute_result"
    }
   ],
   "source": [
    "result2.params"
   ]
  },
  {
   "cell_type": "code",
   "execution_count": 183,
   "metadata": {},
   "outputs": [
    {
     "data": {
      "text/html": [
       "<table class=\"simpletable\">\n",
       "<tr>\n",
       "       <td>Model:</td>       <td>MixedLM</td> <td>Dependent Variable:</td>   <td>lnvisit</td> \n",
       "</tr>\n",
       "<tr>\n",
       "  <td>No. Observations:</td>  <td>1948</td>         <td>Method:</td>          <td>REML</td>   \n",
       "</tr>\n",
       "<tr>\n",
       "     <td>No. Groups:</td>     <td>1313</td>         <td>Scale:</td>          <td>0.4020</td>  \n",
       "</tr>\n",
       "<tr>\n",
       "  <td>Min. group size:</td>     <td>1</td>        <td>Likelihood:</td>     <td>-2239.0466</td>\n",
       "</tr>\n",
       "<tr>\n",
       "  <td>Max. group size:</td>     <td>2</td>        <td>Converged:</td>          <td>Yes</td>   \n",
       "</tr>\n",
       "<tr>\n",
       "  <td>Mean group size:</td>    <td>1.5</td>            <td></td>                <td></td>     \n",
       "</tr>\n",
       "</table>\n",
       "<table class=\"simpletable\">\n",
       "<tr>\n",
       "      <td></td>       <th>Coef.</th> <th>Std.Err.</th>    <th>z</th>   <th>P>|z|</th> <th>[0.025</th> <th>0.975]</th>\n",
       "</tr>\n",
       "<tr>\n",
       "  <th>Intercept</th>  <td>1.024</td>   <td>0.253</td>   <td>4.039</td> <td>0.000</td>  <td>0.527</td>  <td>1.521</td>\n",
       "</tr>\n",
       "<tr>\n",
       "  <th>age</th>       <td>-0.008</td>   <td>0.014</td>  <td>-0.597</td> <td>0.550</td> <td>-0.035</td>  <td>0.019</td>\n",
       "</tr>\n",
       "<tr>\n",
       "  <th>age2</th>       <td>0.000</td>   <td>0.000</td>   <td>0.940</td> <td>0.347</td> <td>-0.000</td>  <td>0.001</td>\n",
       "</tr>\n",
       "<tr>\n",
       "  <th>reform</th>    <td>-0.080</td>   <td>0.031</td>  <td>-2.610</td> <td>0.009</td> <td>-0.140</td> <td>-0.020</td>\n",
       "</tr>\n",
       "<tr>\n",
       "  <th>Group Var</th>  <td>0.192</td>   <td>0.052</td>     <td></td>      <td></td>       <td></td>       <td></td>   \n",
       "</tr>\n",
       "</table>"
      ],
      "text/plain": [
       "<class 'statsmodels.iolib.summary2.Summary'>\n",
       "\"\"\"\n",
       "         Mixed Linear Model Regression Results\n",
       "========================================================\n",
       "Model:            MixedLM Dependent Variable: lnvisit   \n",
       "No. Observations: 1948    Method:             REML      \n",
       "No. Groups:       1313    Scale:              0.4020    \n",
       "Min. group size:  1       Likelihood:         -2239.0466\n",
       "Max. group size:  2       Converged:          Yes       \n",
       "Mean group size:  1.5                                   \n",
       "--------------------------------------------------------\n",
       "              Coef.  Std.Err.   z    P>|z| [0.025 0.975]\n",
       "--------------------------------------------------------\n",
       "Intercept      1.024    0.253  4.039 0.000  0.527  1.521\n",
       "age           -0.008    0.014 -0.597 0.550 -0.035  0.019\n",
       "age2           0.000    0.000  0.940 0.347 -0.000  0.001\n",
       "reform        -0.080    0.031 -2.610 0.009 -0.140 -0.020\n",
       "Group Var      0.192    0.052                           \n",
       "========================================================\n",
       "\n",
       "\"\"\""
      ]
     },
     "execution_count": 183,
     "metadata": {},
     "output_type": "execute_result"
    }
   ],
   "source": [
    "result2.summary()"
   ]
  },
  {
   "cell_type": "markdown",
   "metadata": {},
   "source": [
    "P value for age2 variable is large. The quadratic age term is not significant at alpha = 0.05"
   ]
  },
  {
   "cell_type": "markdown",
   "metadata": {},
   "source": [
    "## Fit a model with more covariates"
   ]
  },
  {
   "cell_type": "code",
   "execution_count": 193,
   "metadata": {},
   "outputs": [],
   "source": [
    "model3 = sm.MixedLM.from_formula(\n",
    "    \"lnvisit ~ age+ reform + educ + married + loginc + summer\", df, re_formula = '1', groups=df[\"id\"])"
   ]
  },
  {
   "cell_type": "code",
   "execution_count": 195,
   "metadata": {},
   "outputs": [],
   "source": [
    "result3 = model3.fit()  "
   ]
  },
  {
   "cell_type": "code",
   "execution_count": 197,
   "metadata": {},
   "outputs": [
    {
     "data": {
      "text/html": [
       "<table class=\"simpletable\">\n",
       "<tr>\n",
       "       <td>Model:</td>       <td>MixedLM</td> <td>Dependent Variable:</td>   <td>lnvisit</td> \n",
       "</tr>\n",
       "<tr>\n",
       "  <td>No. Observations:</td>  <td>1948</td>         <td>Method:</td>          <td>REML</td>   \n",
       "</tr>\n",
       "<tr>\n",
       "     <td>No. Groups:</td>     <td>1313</td>         <td>Scale:</td>          <td>0.4014</td>  \n",
       "</tr>\n",
       "<tr>\n",
       "  <td>Min. group size:</td>     <td>1</td>        <td>Likelihood:</td>     <td>-2240.4431</td>\n",
       "</tr>\n",
       "<tr>\n",
       "  <td>Max. group size:</td>     <td>2</td>        <td>Converged:</td>          <td>Yes</td>   \n",
       "</tr>\n",
       "<tr>\n",
       "  <td>Mean group size:</td>    <td>1.5</td>            <td></td>                <td></td>     \n",
       "</tr>\n",
       "</table>\n",
       "<table class=\"simpletable\">\n",
       "<tr>\n",
       "      <td></td>       <th>Coef.</th> <th>Std.Err.</th>    <th>z</th>   <th>P>|z|</th> <th>[0.025</th> <th>0.975]</th>\n",
       "</tr>\n",
       "<tr>\n",
       "  <th>Intercept</th>  <td>0.282</td>   <td>0.380</td>   <td>0.743</td> <td>0.457</td> <td>-0.462</td>  <td>1.027</td>\n",
       "</tr>\n",
       "<tr>\n",
       "  <th>age</th>        <td>0.004</td>   <td>0.002</td>   <td>2.183</td> <td>0.029</td>  <td>0.000</td>  <td>0.008</td>\n",
       "</tr>\n",
       "<tr>\n",
       "  <th>reform</th>    <td>-0.082</td>   <td>0.031</td>  <td>-2.665</td> <td>0.008</td> <td>-0.142</td> <td>-0.022</td>\n",
       "</tr>\n",
       "<tr>\n",
       "  <th>educ</th>       <td>0.005</td>   <td>0.008</td>   <td>0.581</td> <td>0.561</td> <td>-0.012</td>  <td>0.021</td>\n",
       "</tr>\n",
       "<tr>\n",
       "  <th>married</th>    <td>0.034</td>   <td>0.039</td>   <td>0.875</td> <td>0.382</td> <td>-0.043</td>  <td>0.111</td>\n",
       "</tr>\n",
       "<tr>\n",
       "  <th>loginc</th>     <td>0.060</td>   <td>0.051</td>   <td>1.170</td> <td>0.242</td> <td>-0.041</td>  <td>0.161</td>\n",
       "</tr>\n",
       "<tr>\n",
       "  <th>summer</th>    <td>-0.026</td>   <td>0.053</td>  <td>-0.483</td> <td>0.629</td> <td>-0.129</td>  <td>0.078</td>\n",
       "</tr>\n",
       "<tr>\n",
       "  <th>Group Var</th>  <td>0.193</td>   <td>0.052</td>     <td></td>      <td></td>       <td></td>       <td></td>   \n",
       "</tr>\n",
       "</table>"
      ],
      "text/plain": [
       "<class 'statsmodels.iolib.summary2.Summary'>\n",
       "\"\"\"\n",
       "         Mixed Linear Model Regression Results\n",
       "========================================================\n",
       "Model:            MixedLM Dependent Variable: lnvisit   \n",
       "No. Observations: 1948    Method:             REML      \n",
       "No. Groups:       1313    Scale:              0.4014    \n",
       "Min. group size:  1       Likelihood:         -2240.4431\n",
       "Max. group size:  2       Converged:          Yes       \n",
       "Mean group size:  1.5                                   \n",
       "--------------------------------------------------------\n",
       "              Coef.  Std.Err.   z    P>|z| [0.025 0.975]\n",
       "--------------------------------------------------------\n",
       "Intercept      0.282    0.380  0.743 0.457 -0.462  1.027\n",
       "age            0.004    0.002  2.183 0.029  0.000  0.008\n",
       "reform        -0.082    0.031 -2.665 0.008 -0.142 -0.022\n",
       "educ           0.005    0.008  0.581 0.561 -0.012  0.021\n",
       "married        0.034    0.039  0.875 0.382 -0.043  0.111\n",
       "loginc         0.060    0.051  1.170 0.242 -0.041  0.161\n",
       "summer        -0.026    0.053 -0.483 0.629 -0.129  0.078\n",
       "Group Var      0.193    0.052                           \n",
       "========================================================\n",
       "\n",
       "\"\"\""
      ]
     },
     "execution_count": 197,
     "metadata": {},
     "output_type": "execute_result"
    }
   ],
   "source": [
    "result3.summary()"
   ]
  },
  {
   "cell_type": "markdown",
   "metadata": {},
   "source": [
    "### Use a Wald test to determine the value of adding the four new predictors."
   ]
  },
  {
   "cell_type": "code",
   "execution_count": 199,
   "metadata": {},
   "outputs": [],
   "source": [
    "hypothesis = '(educ = 0, married = 0, loginc= 0, summer =0)'"
   ]
  },
  {
   "cell_type": "code",
   "execution_count": 201,
   "metadata": {},
   "outputs": [
    {
     "name": "stdout",
     "output_type": "stream",
     "text": [
      "<Wald test (chi2): statistic=[[3.26645083]], p-value=0.5142653376595496, df_denom=4>\n"
     ]
    }
   ],
   "source": [
    "print(result3.wald_test(hypothesis))"
   ]
  },
  {
   "cell_type": "markdown",
   "metadata": {},
   "source": [
    "The wald test at least one of the b(educ), b(married),b(loginc), b(summer) equals 0. Since the p value is too big, we cannot reject the null hypothesis."
   ]
  },
  {
   "cell_type": "markdown",
   "metadata": {},
   "source": [
    "## Fit models with more covariates"
   ]
  },
  {
   "cell_type": "code",
   "execution_count": 203,
   "metadata": {},
   "outputs": [],
   "source": [
    "model4 = sm.MixedLM.from_formula(\n",
    "    \"lnvisit ~ age+ reform + educ + married + loginc + summer + badh\", df, re_formula = '1', groups=df[\"id\"])"
   ]
  },
  {
   "cell_type": "code",
   "execution_count": 204,
   "metadata": {},
   "outputs": [
    {
     "data": {
      "text/html": [
       "<table class=\"simpletable\">\n",
       "<tr>\n",
       "       <td>Model:</td>       <td>MixedLM</td> <td>Dependent Variable:</td>   <td>lnvisit</td> \n",
       "</tr>\n",
       "<tr>\n",
       "  <td>No. Observations:</td>  <td>1948</td>         <td>Method:</td>          <td>REML</td>   \n",
       "</tr>\n",
       "<tr>\n",
       "     <td>No. Groups:</td>     <td>1313</td>         <td>Scale:</td>          <td>0.3855</td>  \n",
       "</tr>\n",
       "<tr>\n",
       "  <td>Min. group size:</td>     <td>1</td>        <td>Likelihood:</td>     <td>-2167.6888</td>\n",
       "</tr>\n",
       "<tr>\n",
       "  <td>Max. group size:</td>     <td>2</td>        <td>Converged:</td>          <td>Yes</td>   \n",
       "</tr>\n",
       "<tr>\n",
       "  <td>Mean group size:</td>    <td>1.5</td>            <td></td>                <td></td>     \n",
       "</tr>\n",
       "</table>\n",
       "<table class=\"simpletable\">\n",
       "<tr>\n",
       "      <td></td>       <th>Coef.</th> <th>Std.Err.</th>    <th>z</th>   <th>P>|z|</th> <th>[0.025</th> <th>0.975]</th>\n",
       "</tr>\n",
       "<tr>\n",
       "  <th>Intercept</th>  <td>0.172</td>   <td>0.364</td>   <td>0.473</td> <td>0.636</td> <td>-0.541</td>  <td>0.886</td>\n",
       "</tr>\n",
       "<tr>\n",
       "  <th>age</th>        <td>0.001</td>   <td>0.002</td>   <td>0.597</td> <td>0.550</td> <td>-0.002</td>  <td>0.005</td>\n",
       "</tr>\n",
       "<tr>\n",
       "  <th>reform</th>    <td>-0.065</td>   <td>0.030</td>  <td>-2.167</td> <td>0.030</td> <td>-0.123</td> <td>-0.006</td>\n",
       "</tr>\n",
       "<tr>\n",
       "  <th>educ</th>       <td>0.008</td>   <td>0.008</td>   <td>1.005</td> <td>0.315</td> <td>-0.008</td>  <td>0.024</td>\n",
       "</tr>\n",
       "<tr>\n",
       "  <th>married</th>    <td>0.032</td>   <td>0.038</td>   <td>0.841</td> <td>0.400</td> <td>-0.042</td>  <td>0.105</td>\n",
       "</tr>\n",
       "<tr>\n",
       "  <th>loginc</th>     <td>0.074</td>   <td>0.049</td>   <td>1.506</td> <td>0.132</td> <td>-0.022</td>  <td>0.170</td>\n",
       "</tr>\n",
       "<tr>\n",
       "  <th>summer</th>    <td>-0.023</td>   <td>0.051</td>  <td>-0.450</td> <td>0.653</td> <td>-0.123</td>  <td>0.077</td>\n",
       "</tr>\n",
       "<tr>\n",
       "  <th>badh</th>       <td>0.733</td>   <td>0.059</td>  <td>12.420</td> <td>0.000</td>  <td>0.617</td>  <td>0.848</td>\n",
       "</tr>\n",
       "<tr>\n",
       "  <th>Group Var</th>  <td>0.162</td>   <td>0.047</td>     <td></td>      <td></td>       <td></td>       <td></td>   \n",
       "</tr>\n",
       "</table>"
      ],
      "text/plain": [
       "<class 'statsmodels.iolib.summary2.Summary'>\n",
       "\"\"\"\n",
       "         Mixed Linear Model Regression Results\n",
       "========================================================\n",
       "Model:            MixedLM Dependent Variable: lnvisit   \n",
       "No. Observations: 1948    Method:             REML      \n",
       "No. Groups:       1313    Scale:              0.3855    \n",
       "Min. group size:  1       Likelihood:         -2167.6888\n",
       "Max. group size:  2       Converged:          Yes       \n",
       "Mean group size:  1.5                                   \n",
       "--------------------------------------------------------\n",
       "              Coef.  Std.Err.   z    P>|z| [0.025 0.975]\n",
       "--------------------------------------------------------\n",
       "Intercept      0.172    0.364  0.473 0.636 -0.541  0.886\n",
       "age            0.001    0.002  0.597 0.550 -0.002  0.005\n",
       "reform        -0.065    0.030 -2.167 0.030 -0.123 -0.006\n",
       "educ           0.008    0.008  1.005 0.315 -0.008  0.024\n",
       "married        0.032    0.038  0.841 0.400 -0.042  0.105\n",
       "loginc         0.074    0.049  1.506 0.132 -0.022  0.170\n",
       "summer        -0.023    0.051 -0.450 0.653 -0.123  0.077\n",
       "badh           0.733    0.059 12.420 0.000  0.617  0.848\n",
       "Group Var      0.162    0.047                           \n",
       "========================================================\n",
       "\n",
       "\"\"\""
      ]
     },
     "execution_count": 204,
     "metadata": {},
     "output_type": "execute_result"
    }
   ],
   "source": [
    "result4 = model4.fit()   \n",
    "result4.summary()"
   ]
  },
  {
   "cell_type": "markdown",
   "metadata": {},
   "source": [
    "The p value for badh is very small, so we can say it is significant. Leave badh in all subsequent models."
   ]
  },
  {
   "cell_type": "markdown",
   "metadata": {},
   "source": [
    "## Substitute hs,sc,coll,grad for the single educ variable. Refit model and do a Wald test on the new predictors."
   ]
  },
  {
   "cell_type": "code",
   "execution_count": 207,
   "metadata": {},
   "outputs": [],
   "source": [
    "model5 = sm.MixedLM.from_formula(\n",
    "    \"lnvisit ~ age+ reform + hs +sc+coll+grad + married + loginc + summer + badh\", df, re_formula = '1', groups=df[\"id\"])"
   ]
  },
  {
   "cell_type": "code",
   "execution_count": 208,
   "metadata": {},
   "outputs": [
    {
     "data": {
      "text/html": [
       "<table class=\"simpletable\">\n",
       "<tr>\n",
       "       <td>Model:</td>       <td>MixedLM</td> <td>Dependent Variable:</td>   <td>lnvisit</td> \n",
       "</tr>\n",
       "<tr>\n",
       "  <td>No. Observations:</td>  <td>1948</td>         <td>Method:</td>          <td>REML</td>   \n",
       "</tr>\n",
       "<tr>\n",
       "     <td>No. Groups:</td>     <td>1313</td>         <td>Scale:</td>          <td>0.3860</td>  \n",
       "</tr>\n",
       "<tr>\n",
       "  <td>Min. group size:</td>     <td>1</td>        <td>Likelihood:</td>     <td>-2169.8752</td>\n",
       "</tr>\n",
       "<tr>\n",
       "  <td>Max. group size:</td>     <td>2</td>        <td>Converged:</td>          <td>Yes</td>   \n",
       "</tr>\n",
       "<tr>\n",
       "  <td>Mean group size:</td>    <td>1.5</td>            <td></td>                <td></td>     \n",
       "</tr>\n",
       "</table>\n",
       "<table class=\"simpletable\">\n",
       "<tr>\n",
       "      <td></td>       <th>Coef.</th> <th>Std.Err.</th>    <th>z</th>   <th>P>|z|</th> <th>[0.025</th> <th>0.975]</th>\n",
       "</tr>\n",
       "<tr>\n",
       "  <th>Intercept</th>  <td>0.181</td>   <td>0.371</td>   <td>0.488</td> <td>0.626</td> <td>-0.546</td>  <td>0.908</td>\n",
       "</tr>\n",
       "<tr>\n",
       "  <th>age</th>        <td>0.001</td>   <td>0.002</td>   <td>0.538</td> <td>0.590</td> <td>-0.003</td>  <td>0.005</td>\n",
       "</tr>\n",
       "<tr>\n",
       "  <th>reform</th>    <td>-0.064</td>   <td>0.030</td>  <td>-2.137</td> <td>0.033</td> <td>-0.123</td> <td>-0.005</td>\n",
       "</tr>\n",
       "<tr>\n",
       "  <th>hs</th>        <td>-0.045</td>   <td>0.051</td>  <td>-0.885</td> <td>0.376</td> <td>-0.146</td>  <td>0.055</td>\n",
       "</tr>\n",
       "<tr>\n",
       "  <th>sc</th>         <td>0.003</td>   <td>0.059</td>   <td>0.055</td> <td>0.956</td> <td>-0.112</td>  <td>0.118</td>\n",
       "</tr>\n",
       "<tr>\n",
       "  <th>coll</th>       <td>0.139</td>   <td>0.142</td>   <td>0.981</td> <td>0.327</td> <td>-0.139</td>  <td>0.417</td>\n",
       "</tr>\n",
       "<tr>\n",
       "  <th>grad</th>      <td>-0.039</td>   <td>0.080</td>  <td>-0.482</td> <td>0.630</td> <td>-0.196</td>  <td>0.119</td>\n",
       "</tr>\n",
       "<tr>\n",
       "  <th>married</th>    <td>0.030</td>   <td>0.038</td>   <td>0.795</td> <td>0.427</td> <td>-0.044</td>  <td>0.104</td>\n",
       "</tr>\n",
       "<tr>\n",
       "  <th>loginc</th>     <td>0.086</td>   <td>0.048</td>   <td>1.784</td> <td>0.074</td> <td>-0.009</td>  <td>0.181</td>\n",
       "</tr>\n",
       "<tr>\n",
       "  <th>summer</th>    <td>-0.022</td>   <td>0.051</td>  <td>-0.440</td> <td>0.660</td> <td>-0.122</td>  <td>0.078</td>\n",
       "</tr>\n",
       "<tr>\n",
       "  <th>badh</th>       <td>0.729</td>   <td>0.059</td>  <td>12.345</td> <td>0.000</td>  <td>0.613</td>  <td>0.845</td>\n",
       "</tr>\n",
       "<tr>\n",
       "  <th>Group Var</th>  <td>0.162</td>   <td>0.047</td>     <td></td>      <td></td>       <td></td>       <td></td>   \n",
       "</tr>\n",
       "</table>"
      ],
      "text/plain": [
       "<class 'statsmodels.iolib.summary2.Summary'>\n",
       "\"\"\"\n",
       "         Mixed Linear Model Regression Results\n",
       "========================================================\n",
       "Model:            MixedLM Dependent Variable: lnvisit   \n",
       "No. Observations: 1948    Method:             REML      \n",
       "No. Groups:       1313    Scale:              0.3860    \n",
       "Min. group size:  1       Likelihood:         -2169.8752\n",
       "Max. group size:  2       Converged:          Yes       \n",
       "Mean group size:  1.5                                   \n",
       "--------------------------------------------------------\n",
       "              Coef.  Std.Err.   z    P>|z| [0.025 0.975]\n",
       "--------------------------------------------------------\n",
       "Intercept      0.181    0.371  0.488 0.626 -0.546  0.908\n",
       "age            0.001    0.002  0.538 0.590 -0.003  0.005\n",
       "reform        -0.064    0.030 -2.137 0.033 -0.123 -0.005\n",
       "hs            -0.045    0.051 -0.885 0.376 -0.146  0.055\n",
       "sc             0.003    0.059  0.055 0.956 -0.112  0.118\n",
       "coll           0.139    0.142  0.981 0.327 -0.139  0.417\n",
       "grad          -0.039    0.080 -0.482 0.630 -0.196  0.119\n",
       "married        0.030    0.038  0.795 0.427 -0.044  0.104\n",
       "loginc         0.086    0.048  1.784 0.074 -0.009  0.181\n",
       "summer        -0.022    0.051 -0.440 0.660 -0.122  0.078\n",
       "badh           0.729    0.059 12.345 0.000  0.613  0.845\n",
       "Group Var      0.162    0.047                           \n",
       "========================================================\n",
       "\n",
       "\"\"\""
      ]
     },
     "execution_count": 208,
     "metadata": {},
     "output_type": "execute_result"
    }
   ],
   "source": [
    "result5 = model5.fit()\n",
    "result5.summary()"
   ]
  },
  {
   "cell_type": "code",
   "execution_count": 209,
   "metadata": {},
   "outputs": [],
   "source": [
    "hypothesis_2 = '(hs = 0, sc = 0, coll= 0, grad =0)'"
   ]
  },
  {
   "cell_type": "code",
   "execution_count": 210,
   "metadata": {},
   "outputs": [
    {
     "data": {
      "text/plain": [
       "<class 'statsmodels.stats.contrast.ContrastResults'>\n",
       "<Wald test (chi2): statistic=[[2.10408839]], p-value=0.7166213146688021, df_denom=4>"
      ]
     },
     "execution_count": 210,
     "metadata": {},
     "output_type": "execute_result"
    }
   ],
   "source": [
    "result5.wald_test(hypothesis_2)"
   ]
  },
  {
   "cell_type": "markdown",
   "metadata": {},
   "source": [
    "Test at least one of the b(hs), b(sc), b(coll), b(grad) equals 0 The p value is very high, so we cannot reject the hypothesis."
   ]
  },
  {
   "cell_type": "markdown",
   "metadata": {},
   "source": [
    "## Return to the model with educ in this and all subsequent models.  Separately test two interaction terms (ageRef, badhRef) by adding them (separately)to the model."
   ]
  },
  {
   "cell_type": "code",
   "execution_count": 214,
   "metadata": {},
   "outputs": [],
   "source": [
    "model6 = sm.MixedLM.from_formula(\n",
    "    \"lnvisit ~ age+ reform + educ+ married + loginc + summer + badh + ageRef\", df, re_formula = '1', groups=df[\"id\"])"
   ]
  },
  {
   "cell_type": "code",
   "execution_count": 215,
   "metadata": {},
   "outputs": [
    {
     "data": {
      "text/html": [
       "<table class=\"simpletable\">\n",
       "<tr>\n",
       "       <td>Model:</td>       <td>MixedLM</td> <td>Dependent Variable:</td>   <td>lnvisit</td> \n",
       "</tr>\n",
       "<tr>\n",
       "  <td>No. Observations:</td>  <td>1948</td>         <td>Method:</td>          <td>REML</td>   \n",
       "</tr>\n",
       "<tr>\n",
       "     <td>No. Groups:</td>     <td>1313</td>         <td>Scale:</td>          <td>0.3857</td>  \n",
       "</tr>\n",
       "<tr>\n",
       "  <td>Min. group size:</td>     <td>1</td>        <td>Likelihood:</td>     <td>-2172.0370</td>\n",
       "</tr>\n",
       "<tr>\n",
       "  <td>Max. group size:</td>     <td>2</td>        <td>Converged:</td>          <td>Yes</td>   \n",
       "</tr>\n",
       "<tr>\n",
       "  <td>Mean group size:</td>    <td>1.5</td>            <td></td>                <td></td>     \n",
       "</tr>\n",
       "</table>\n",
       "<table class=\"simpletable\">\n",
       "<tr>\n",
       "      <td></td>       <th>Coef.</th> <th>Std.Err.</th>    <th>z</th>   <th>P>|z|</th> <th>[0.025</th> <th>0.975]</th>\n",
       "</tr>\n",
       "<tr>\n",
       "  <th>Intercept</th>  <td>0.114</td>   <td>0.368</td>   <td>0.311</td> <td>0.756</td> <td>-0.606</td>  <td>0.835</td>\n",
       "</tr>\n",
       "<tr>\n",
       "  <th>age</th>        <td>0.003</td>   <td>0.002</td>   <td>1.158</td> <td>0.247</td> <td>-0.002</td>  <td>0.007</td>\n",
       "</tr>\n",
       "<tr>\n",
       "  <th>reform</th>     <td>0.049</td>   <td>0.107</td>   <td>0.459</td> <td>0.646</td> <td>-0.161</td>  <td>0.259</td>\n",
       "</tr>\n",
       "<tr>\n",
       "  <th>educ</th>       <td>0.008</td>   <td>0.008</td>   <td>1.020</td> <td>0.308</td> <td>-0.008</td>  <td>0.024</td>\n",
       "</tr>\n",
       "<tr>\n",
       "  <th>married</th>    <td>0.031</td>   <td>0.038</td>   <td>0.817</td> <td>0.414</td> <td>-0.043</td>  <td>0.104</td>\n",
       "</tr>\n",
       "<tr>\n",
       "  <th>loginc</th>     <td>0.074</td>   <td>0.049</td>   <td>1.504</td> <td>0.133</td> <td>-0.022</td>  <td>0.170</td>\n",
       "</tr>\n",
       "<tr>\n",
       "  <th>summer</th>    <td>-0.024</td>   <td>0.051</td>  <td>-0.474</td> <td>0.635</td> <td>-0.124</td>  <td>0.076</td>\n",
       "</tr>\n",
       "<tr>\n",
       "  <th>badh</th>       <td>0.732</td>   <td>0.059</td>  <td>12.415</td> <td>0.000</td>  <td>0.617</td>  <td>0.848</td>\n",
       "</tr>\n",
       "<tr>\n",
       "  <th>ageRef</th>    <td>-0.003</td>   <td>0.003</td>  <td>-1.108</td> <td>0.268</td> <td>-0.009</td>  <td>0.002</td>\n",
       "</tr>\n",
       "<tr>\n",
       "  <th>Group Var</th>  <td>0.162</td>   <td>0.047</td>     <td></td>      <td></td>       <td></td>       <td></td>   \n",
       "</tr>\n",
       "</table>"
      ],
      "text/plain": [
       "<class 'statsmodels.iolib.summary2.Summary'>\n",
       "\"\"\"\n",
       "         Mixed Linear Model Regression Results\n",
       "========================================================\n",
       "Model:            MixedLM Dependent Variable: lnvisit   \n",
       "No. Observations: 1948    Method:             REML      \n",
       "No. Groups:       1313    Scale:              0.3857    \n",
       "Min. group size:  1       Likelihood:         -2172.0370\n",
       "Max. group size:  2       Converged:          Yes       \n",
       "Mean group size:  1.5                                   \n",
       "--------------------------------------------------------\n",
       "              Coef.  Std.Err.   z    P>|z| [0.025 0.975]\n",
       "--------------------------------------------------------\n",
       "Intercept      0.114    0.368  0.311 0.756 -0.606  0.835\n",
       "age            0.003    0.002  1.158 0.247 -0.002  0.007\n",
       "reform         0.049    0.107  0.459 0.646 -0.161  0.259\n",
       "educ           0.008    0.008  1.020 0.308 -0.008  0.024\n",
       "married        0.031    0.038  0.817 0.414 -0.043  0.104\n",
       "loginc         0.074    0.049  1.504 0.133 -0.022  0.170\n",
       "summer        -0.024    0.051 -0.474 0.635 -0.124  0.076\n",
       "badh           0.732    0.059 12.415 0.000  0.617  0.848\n",
       "ageRef        -0.003    0.003 -1.108 0.268 -0.009  0.002\n",
       "Group Var      0.162    0.047                           \n",
       "========================================================\n",
       "\n",
       "\"\"\""
      ]
     },
     "execution_count": 215,
     "metadata": {},
     "output_type": "execute_result"
    }
   ],
   "source": [
    "result6 = model6.fit()\n",
    "result6.summary()"
   ]
  },
  {
   "cell_type": "code",
   "execution_count": 216,
   "metadata": {},
   "outputs": [
    {
     "data": {
      "text/plain": [
       "<class 'statsmodels.stats.contrast.ContrastResults'>\n",
       "<Wald test (chi2): statistic=[[1.22719254]], p-value=0.2679537179673659, df_denom=1>"
      ]
     },
     "execution_count": 216,
     "metadata": {},
     "output_type": "execute_result"
    }
   ],
   "source": [
    "hypothsis_4= 'ageRef =0'\n",
    "result6.wald_test(hypothsis_4)"
   ]
  },
  {
   "cell_type": "code",
   "execution_count": 217,
   "metadata": {},
   "outputs": [],
   "source": [
    "model7 = sm.MixedLM.from_formula(\n",
    "    \"lnvisit ~ age+ reform + educ+ married + loginc + summer + badh + badhRef\", df, re_formula = '1', groups=df[\"id\"])"
   ]
  },
  {
   "cell_type": "code",
   "execution_count": 218,
   "metadata": {},
   "outputs": [
    {
     "data": {
      "text/html": [
       "<table class=\"simpletable\">\n",
       "<tr>\n",
       "       <td>Model:</td>       <td>MixedLM</td> <td>Dependent Variable:</td>   <td>lnvisit</td> \n",
       "</tr>\n",
       "<tr>\n",
       "  <td>No. Observations:</td>  <td>1948</td>         <td>Method:</td>          <td>REML</td>   \n",
       "</tr>\n",
       "<tr>\n",
       "     <td>No. Groups:</td>     <td>1313</td>         <td>Scale:</td>          <td>0.3838</td>  \n",
       "</tr>\n",
       "<tr>\n",
       "  <td>Min. group size:</td>     <td>1</td>        <td>Likelihood:</td>     <td>-2167.5474</td>\n",
       "</tr>\n",
       "<tr>\n",
       "  <td>Max. group size:</td>     <td>2</td>        <td>Converged:</td>          <td>Yes</td>   \n",
       "</tr>\n",
       "<tr>\n",
       "  <td>Mean group size:</td>    <td>1.5</td>            <td></td>                <td></td>     \n",
       "</tr>\n",
       "</table>\n",
       "<table class=\"simpletable\">\n",
       "<tr>\n",
       "      <td></td>       <th>Coef.</th> <th>Std.Err.</th>    <th>z</th>   <th>P>|z|</th> <th>[0.025</th> <th>0.975]</th>\n",
       "</tr>\n",
       "<tr>\n",
       "  <th>Intercept</th>  <td>0.157</td>   <td>0.364</td>   <td>0.432</td> <td>0.666</td> <td>-0.556</td>  <td>0.871</td>\n",
       "</tr>\n",
       "<tr>\n",
       "  <th>age</th>        <td>0.001</td>   <td>0.002</td>   <td>0.590</td> <td>0.555</td> <td>-0.002</td>  <td>0.005</td>\n",
       "</tr>\n",
       "<tr>\n",
       "  <th>reform</th>    <td>-0.049</td>   <td>0.031</td>  <td>-1.563</td> <td>0.118</td> <td>-0.110</td>  <td>0.012</td>\n",
       "</tr>\n",
       "<tr>\n",
       "  <th>educ</th>       <td>0.008</td>   <td>0.008</td>   <td>0.988</td> <td>0.323</td> <td>-0.008</td>  <td>0.024</td>\n",
       "</tr>\n",
       "<tr>\n",
       "  <th>married</th>    <td>0.032</td>   <td>0.038</td>   <td>0.842</td> <td>0.400</td> <td>-0.042</td>  <td>0.105</td>\n",
       "</tr>\n",
       "<tr>\n",
       "  <th>loginc</th>     <td>0.075</td>   <td>0.049</td>   <td>1.530</td> <td>0.126</td> <td>-0.021</td>  <td>0.172</td>\n",
       "</tr>\n",
       "<tr>\n",
       "  <th>summer</th>    <td>-0.027</td>   <td>0.051</td>  <td>-0.521</td> <td>0.603</td> <td>-0.127</td>  <td>0.073</td>\n",
       "</tr>\n",
       "<tr>\n",
       "  <th>badh</th>       <td>0.819</td>   <td>0.079</td>  <td>10.413</td> <td>0.000</td>  <td>0.664</td>  <td>0.973</td>\n",
       "</tr>\n",
       "<tr>\n",
       "  <th>badhRef</th>   <td>-0.195</td>   <td>0.118</td>  <td>-1.650</td> <td>0.099</td> <td>-0.426</td>  <td>0.037</td>\n",
       "</tr>\n",
       "<tr>\n",
       "  <th>Group Var</th>  <td>0.163</td>   <td>0.047</td>     <td></td>      <td></td>       <td></td>       <td></td>   \n",
       "</tr>\n",
       "</table>"
      ],
      "text/plain": [
       "<class 'statsmodels.iolib.summary2.Summary'>\n",
       "\"\"\"\n",
       "         Mixed Linear Model Regression Results\n",
       "========================================================\n",
       "Model:            MixedLM Dependent Variable: lnvisit   \n",
       "No. Observations: 1948    Method:             REML      \n",
       "No. Groups:       1313    Scale:              0.3838    \n",
       "Min. group size:  1       Likelihood:         -2167.5474\n",
       "Max. group size:  2       Converged:          Yes       \n",
       "Mean group size:  1.5                                   \n",
       "--------------------------------------------------------\n",
       "              Coef.  Std.Err.   z    P>|z| [0.025 0.975]\n",
       "--------------------------------------------------------\n",
       "Intercept      0.157    0.364  0.432 0.666 -0.556  0.871\n",
       "age            0.001    0.002  0.590 0.555 -0.002  0.005\n",
       "reform        -0.049    0.031 -1.563 0.118 -0.110  0.012\n",
       "educ           0.008    0.008  0.988 0.323 -0.008  0.024\n",
       "married        0.032    0.038  0.842 0.400 -0.042  0.105\n",
       "loginc         0.075    0.049  1.530 0.126 -0.021  0.172\n",
       "summer        -0.027    0.051 -0.521 0.603 -0.127  0.073\n",
       "badh           0.819    0.079 10.413 0.000  0.664  0.973\n",
       "badhRef       -0.195    0.118 -1.650 0.099 -0.426  0.037\n",
       "Group Var      0.163    0.047                           \n",
       "========================================================\n",
       "\n",
       "\"\"\""
      ]
     },
     "execution_count": 218,
     "metadata": {},
     "output_type": "execute_result"
    }
   ],
   "source": [
    "result7= model7.fit()\n",
    "result7.summary()"
   ]
  },
  {
   "cell_type": "code",
   "execution_count": 219,
   "metadata": {},
   "outputs": [
    {
     "data": {
      "text/plain": [
       "<class 'statsmodels.stats.contrast.ContrastResults'>\n",
       "<Wald test (chi2): statistic=[[2.72101046]], p-value=0.09903530274181276, df_denom=1>"
      ]
     },
     "execution_count": 219,
     "metadata": {},
     "output_type": "execute_result"
    }
   ],
   "source": [
    "hypothesis_5 = 'badhRef = 0'\n",
    "result7.wald_test(hypothesis_5)"
   ]
  },
  {
   "cell_type": "markdown",
   "metadata": {},
   "source": [
    "P values for ageRef and badhRef are too big.\n",
    "\n",
    "So we will keep use model 4 for analysis\n"
   ]
  },
  {
   "cell_type": "markdown",
   "metadata": {},
   "source": [
    "## Examine residuals from model 4 first using kdensity & then against *loginc* and *educ*(onx-axis)using scatterplot smooths"
   ]
  },
  {
   "cell_type": "code",
   "execution_count": 220,
   "metadata": {},
   "outputs": [
    {
     "data": {
      "image/png": "[encoded data removed]",
      "text/plain": [
       "<Figure size 432x288 with 1 Axes>"
      ]
     },
     "metadata": {},
     "output_type": "display_data"
    }
   ],
   "source": [
    "scipy.stats.probplot(result4.resid, dist = 'norm', plot =pylab)\n",
    "pylab.show()"
   ]
  },
  {
   "cell_type": "code",
   "execution_count": 228,
   "metadata": {},
   "outputs": [
    {
     "data": {
      "text/plain": [
       "[<matplotlib.lines.Line2D at 0x12bfcfcf8>]"
      ]
     },
     "execution_count": 228,
     "metadata": {},
     "output_type": "execute_result"
    },
    {
     "data": {
      "image/png": "[encoded data removed]",
      "text/plain": [
       "<Figure size 432x288 with 1 Axes>"
      ]
     },
     "metadata": {},
     "output_type": "display_data"
    }
   ],
   "source": [
    "plt.scatter(df['loginc'], result4.resid)\n",
    "smooth_lowess_2= statsmodels.api.nonparametric.lowess(result4.resid, df['loginc'], it=5, frac=0.5)\n",
    "plt.plot(smooth_lowess_2[:,0],smooth_lowess_2[:,1],'red', linewidth =1)"
   ]
  },
  {
   "cell_type": "code",
   "execution_count": 230,
   "metadata": {},
   "outputs": [
    {
     "data": {
      "text/plain": [
       "[<matplotlib.lines.Line2D at 0x12ca070b8>]"
      ]
     },
     "execution_count": 230,
     "metadata": {},
     "output_type": "execute_result"
    },
    {
     "data": {
      "image/png": "[encoded data removed]",
      "text/plain": [
       "<Figure size 432x288 with 1 Axes>"
      ]
     },
     "metadata": {},
     "output_type": "display_data"
    }
   ],
   "source": [
    "plt.scatter(df['educ'], result4.resid)\n",
    "smooth_lowess_3= statsmodels.api.nonparametric.lowess(result4.resid, df['educ'], it=5, frac=0.5)\n",
    "plt.plot(smooth_lowess_3[:,0],smooth_lowess_3[:,1],'red', linewidth =1)"
   ]
  },
  {
   "cell_type": "code",
   "execution_count": 285,
   "metadata": {},
   "outputs": [
    {
     "data": {
      "text/plain": [
       "<matplotlib.axes._subplots.AxesSubplot at 0x12da44208>"
      ]
     },
     "execution_count": 285,
     "metadata": {},
     "output_type": "execute_result"
    },
    {
     "data": {
      "image/png": "[encoded data removed]",
      "text/plain": [
       "<Figure size 432x288 with 1 Axes>"
      ]
     },
     "metadata": {},
     "output_type": "display_data"
    }
   ],
   "source": [
    "sns.distplot(result4.resid, hist=True, kde=True, \n",
    "              color = 'darkblue', \n",
    "             hist_kws={'edgecolor':'black'},\n",
    "             kde_kws={'linewidth': 4})\n",
    "\n"
   ]
  },
  {
   "cell_type": "markdown",
   "metadata": {},
   "source": [
    "The plots still don’t show perfectly normality. But it overall shows normally distributed. From the last two scatterplots, we see it doesn’t look like linearity against login but it shows relatively linearity against educ."
   ]
  },
  {
   "cell_type": "markdown",
   "metadata": {},
   "source": [
    "## Make predictions"
   ]
  },
  {
   "cell_type": "code",
   "execution_count": 233,
   "metadata": {},
   "outputs": [],
   "source": [
    "test_df = pd.read_stata('/Users/YaoJunyan/Documents/NYU/Fall 2016/Growth Curve/Database/drvisits_testsamp.dta')"
   ]
  },
  {
   "cell_type": "code",
   "execution_count": 234,
   "metadata": {},
   "outputs": [
    {
     "name": "stdout",
     "output_type": "stream",
     "text": [
      "<class 'pandas.core.frame.DataFrame'>\n",
      "Int64Index: 216 entries, 0 to 215\n",
      "Data columns (total 9 columns):\n",
      "id          216 non-null float32\n",
      "numvisit    216 non-null float32\n",
      "age         216 non-null float32\n",
      "educ        216 non-null float32\n",
      "married     216 non-null float32\n",
      "badh        216 non-null float32\n",
      "loginc      216 non-null float32\n",
      "reform      216 non-null float32\n",
      "summer      216 non-null float32\n",
      "dtypes: float32(9)\n",
      "memory usage: 9.3 KB\n"
     ]
    }
   ],
   "source": [
    "test_df.info()"
   ]
  },
  {
   "cell_type": "code",
   "execution_count": 277,
   "metadata": {},
   "outputs": [],
   "source": [
    "model4 = sm.MixedLM.from_formula(\n",
    "    \"lnvisit ~ age+ reform + educ + married + loginc + summer + badh\", df, re_formula = '1', groups=df[\"id\"])"
   ]
  },
  {
   "cell_type": "code",
   "execution_count": 278,
   "metadata": {},
   "outputs": [],
   "source": [
    "X= test_df[['age', 'reform', 'educ', 'married', 'loginc', 'summer', 'badh']]"
   ]
  },
  {
   "cell_type": "code",
   "execution_count": 279,
   "metadata": {},
   "outputs": [],
   "source": [
    "pred_test = result4.predict(X)"
   ]
  },
  {
   "cell_type": "code",
   "execution_count": 280,
   "metadata": {},
   "outputs": [],
   "source": [
    "sq_error = (df['numvisit']- np.exp(pred_test)) **2"
   ]
  },
  {
   "cell_type": "code",
   "execution_count": 281,
   "metadata": {},
   "outputs": [
    {
     "data": {
      "text/plain": [
       "28.442087999734802"
      ]
     },
     "execution_count": 281,
     "metadata": {},
     "output_type": "execute_result"
    }
   ],
   "source": [
    "np.mean(sq_error)"
   ]
  },
  {
   "cell_type": "raw",
   "metadata": {},
   "source": [
    "Reference: \n",
    "\n",
    "KDE plot: https://jakevdp.github.io/blog/2013/12/01/kernel-density-estimation/"
   ]
  }
 ],
 "metadata": {
  "kernelspec": {
   "display_name": "Python 3",
   "language": "python",
   "name": "python3"
  },
  "language_info": {
   "codemirror_mode": {
    "name": "ipython",
    "version": 3
   },
   "file_extension": ".py",
   "mimetype": "text/x-python",
   "name": "python",
   "nbconvert_exporter": "python",
   "pygments_lexer": "ipython3",
   "version": "3.6.5"
  }
 },
 "nbformat": 4,
 "nbformat_minor": 2
}
